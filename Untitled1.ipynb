{
 "cells": [
  {
   "cell_type": "code",
   "execution_count": null,
   "id": "f7e202ee",
   "metadata": {},
   "outputs": [],
   "source": [
    "from __future__ import absolute_import, division\n",
    "from BashColors import C\n",
    "from CV2_Utils_2 import *\n",
    "\n",
    "import cv2, os\n",
    "import numpy as np\n",
    "from os.path import *\n",
    "import PIL\n",
    "from PIL import Image\n",
    "import matplotlib.pyplot as plt\n",
    "import glob\n",
    "\n",
    "contentPath=os.getcwd()\n",
    "imagePath=join(contentPath, '3b7d7d8a64.jpg')\n",
    "savePath=join(contentPath, 'resized.jpg')"
   ]
  },
  {
   "cell_type": "code",
   "execution_count": null,
   "id": "a3edeb46",
   "metadata": {},
   "outputs": [],
   "source": [
    "img=cvu.getCV2Image(imagePath)\n",
    "# cvu.plotShowSingleImage(img)\n",
    "height = img.shape[0]\n",
    "width = img.shape[1]\n",
    "\n",
    "# let's say we want the new width to be 400px\n",
    "# and compute the new height based on the aspect ratio\n",
    "new_width = 224\n",
    "ratio = new_width / width # (or new_height / height)\n",
    "print(ratio)\n",
    "new_height = int(height * ratio)\n",
    "\n",
    "dimensions = (new_width, new_height)\n",
    "new_img = cv2.resize(img,dimensions,interpolation=cv2.INTER_LINEAR)\n",
    "# new_img = cv2.resize(new_img, (224,224))\n",
    "cvu.plotShowTwoImages(\n",
    "    img, new_img, title1=img.shape,title2=new_img.shape\n",
    ")"
   ]
  }
 ],
 "metadata": {
  "kernelspec": {
   "display_name": "Python 3 (ipykernel)",
   "language": "python",
   "name": "python3"
  },
  "language_info": {
   "codemirror_mode": {
    "name": "ipython",
    "version": 3
   },
   "file_extension": ".py",
   "mimetype": "text/x-python",
   "name": "python",
   "nbconvert_exporter": "python",
   "pygments_lexer": "ipython3",
   "version": "3.7.12"
  }
 },
 "nbformat": 4,
 "nbformat_minor": 5
}
