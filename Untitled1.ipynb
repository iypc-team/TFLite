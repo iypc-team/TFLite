{
 "cells": [
  {
   "cell_type": "code",
   "execution_count": null,
   "id": "a3edeb46",
   "metadata": {},
   "outputs": [],
   "source": [
    "from __future__ import absolute_import, division\n",
    "from BashColors import C\n",
    "from CV2_Utils_2 import *\n",
    "\n",
    "import os\n",
    "import numpy as np\n",
    "from os.path import *\n",
    "import PIL\n",
    "from PIL import Image\n",
    "import matplotlib.pyplot as plt\n",
    "import glob\n",
    "\n",
    "contentPath=os.getcwd()\n",
    "imagePath=join(contentPath, '3b7d7d8a64.jpg')\n",
    "savePath=join(contentPath, 'resized.jpg')"
   ]
  },
  {
   "cell_type": "code",
   "execution_count": null,
   "id": "2407c661",
   "metadata": {},
   "outputs": [],
   "source": [
    "import PIL\n",
    "import PIL.IcoImagePlugin\n",
    "import PIL.Image\n",
    "import matplotlib.pyplot as plt\n",
    "\n",
    "with PIL.Image.open(imagePath) as pil_img:\n",
    "    pil_img: PIL.IcoImagePlugin.IcoImageFile  # You can omit. It helps IDE know what the object is, and then it will hint at the method very correctly.\n",
    "    out_img = pil_img.resize((224, 224), PIL.Image.ANTIALIAS)\n",
    "\n",
    "    plt.figure(figsize=(2, 1))  # 2 row and 1 column.\n",
    "    # plt.subplots_adjust(hspace=1)  # or you can try: \n",
    "    plt.tight_layout()\n",
    "    plt.rc(('xtick', 'ytick'), color=(1, 1, 1, 0))  # set xtick, ytick to transparent\n",
    "    plt.subplot(2, 1, 1), plt.imshow(pil_img)\n",
    "    plt.subplot(2, 1, 2), plt.imshow(out_img)\n",
    "    plt.show()"
   ]
  },
  {
   "cell_type": "code",
   "execution_count": null,
   "id": "66ab96db",
   "metadata": {},
   "outputs": [],
   "source": [
    "img=cvu.getCV2Image(imagePath)\n",
    "out_img = np.array(\n",
    "    out_img.getdata()).reshape(out_img.size[0], out_img.size[1], 3)\n",
    "\n",
    "print(type(out_img), type(img))\n",
    "cvu.plotShowTwoImages(img, out_img)"
   ]
  },
  {
   "cell_type": "code",
   "execution_count": null,
   "id": "2e5e354a",
   "metadata": {},
   "outputs": [],
   "source": [
    "\n",
    "image = Image.open(imagePath)\n",
    "resized=image.thumbnail(size=(224,224))\n",
    "# resized.save(savePath, optimize=True, quality=100)\n",
    "img=cvu.getCV2Image(imagePath)\n",
    "resizedImg=cvu.getCV2Image(savePath)\n",
    "plt.show()\n",
    "# plt.show(resizedImg)"
   ]
  },
  {
   "cell_type": "code",
   "execution_count": null,
   "id": "64b256c5",
   "metadata": {},
   "outputs": [],
   "source": [
    "fixed_height = 224\n",
    "image = Image.open(imagePath)\n",
    "# image = np.frombuffer(image, dtype=np.uint8)\n",
    "height_percent = (fixed_height / float(image.size[1]))\n",
    "width_size = int((float(image.size[0]) * float(height_percent)))\n",
    "resized = image.resize((width_size, fixed_height),PIL.Image.NEAREST)\n",
    "resized.save(savePath)\n",
    "# cvu.plotShowTwoImages(image, resized)"
   ]
  },
  {
   "cell_type": "code",
   "execution_count": null,
   "id": "0d6c95db",
   "metadata": {},
   "outputs": [],
   "source": []
  }
 ],
 "metadata": {
  "kernelspec": {
   "display_name": "Python 3 (ipykernel)",
   "language": "python",
   "name": "python3"
  },
  "language_info": {
   "codemirror_mode": {
    "name": "ipython",
    "version": 3
   },
   "file_extension": ".py",
   "mimetype": "text/x-python",
   "name": "python",
   "nbconvert_exporter": "python",
   "pygments_lexer": "ipython3",
   "version": "3.7.12"
  }
 },
 "nbformat": 4,
 "nbformat_minor": 5
}
