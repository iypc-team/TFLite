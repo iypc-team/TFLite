{
 "cells": [
  {
   "cell_type": "code",
   "execution_count": null,
   "id": "2f5a6404",
   "metadata": {},
   "outputs": [],
   "source": [
    "from __future__ import absolute_import, division\n",
    "from BashColors import C\n",
    "from CV2_Utils import *\n",
    "import concurrent.futures, glob, requests\n",
    "import os\n",
    "from os.path import *\n",
    "from time import perf_counter\n",
    "os.environ['TF_CPP_MIN_LOG_LEVEL'] = '4'\n",
    "import tensorflow as tf\n",
    "import cv2\n",
    "\n",
    "imageURLS =['https://esahubble.org/images/heic2017a/',\n",
    "            'https://esahubble.org/images/heic1917a/',\n",
    "            'https://esahubble.org/images/opo9828c/',\n",
    "            'https://esahubble.org/images/potw1714a/',\n",
    "            'https://esahubble.org/images/opo2059a/',\n",
    "            'https://esahubble.org/images/opo0217a/',\n",
    "            'https://esahubble.org/images/heic1815b/'\n",
    "           ]\n",
    "\n",
    "downloadCount=0\n",
    "# for image in sorted(imageURLS):\n",
    "def downloadImages(imageURLS):\n",
    "    img_bytes = requests.get(imageURLS).content\n",
    "    img_name = imageURLS.split('/')[4]\n",
    "    img_name = f'{img_name}.png'\n",
    "    \n",
    "    with open(img_name, 'wb') as image_file:\n",
    "        image_file.write(img_bytes)\n",
    "        return f'{C.BIBlue}{img_name}{C.ColorOff} was downloaded'\n",
    "\n",
    "startTime=perf_counter()\n",
    "with concurrent.futures.ThreadPoolExecutor() as executor:\n",
    "    returns = executor.map(downloadImages, imageURLS)\n",
    "finishTime=perf_counter()\n",
    "                 \n",
    "totalTime = round(finishTime - startTime, 0)\n",
    "print(f'download time: {C.BIBlue}{totalTime}{C.ColorOff}')\n",
    "for retrn in returns:\n",
    "    print(retrn)"
   ]
  },
  {
   "cell_type": "code",
   "execution_count": null,
   "id": "480b1f39",
   "metadata": {},
   "outputs": [],
   "source": [
    "\n",
    "def resizeImage(thisPath):\n",
    "    print(f'{C.BIPurple}{thisPath}{C.ColorOff}')\n",
    "    img = cv2.imread(thisPath)\n",
    "    img = tf.image.resize(\n",
    "        img, size=(224,224), method=tf.image.ResizeMethod.BILINEAR,\n",
    "        preserve_aspect_ratio=False,\n",
    "        antialias=False, name=None)\n",
    "    \n",
    "    img=np.copy(img)\n",
    "    cv2.imwrite(thisPath, img)\n",
    "    sleep(0.2)\n",
    "    print(img.shape)\n",
    "    return img"
   ]
  },
  {
   "cell_type": "code",
   "execution_count": null,
   "id": "10b2d316",
   "metadata": {},
   "outputs": [],
   "source": [
    "planetGlobList=[]\n",
    "planetGlobList=glob.glob('*.png')\n",
    "\n",
    "for pth in sorted(planetGlobList):\n",
    "    fullPath=abspath(pth)\n",
    "    # print(fullPath)\n",
    "    # img = cv2.imread(fullPath, cv2.IMREAD_COLOR)\n",
    "    try: img = resizeImage(fullPath)\n",
    "    except Exception as err: print(err)\n",
    "    cvu.plotShowSingleImage(img, title1=basename(fullPath))\n",
    "    "
   ]
  }
 ],
 "metadata": {
  "kernelspec": {
   "display_name": "Python 3 (ipykernel)",
   "language": "python",
   "name": "python3"
  },
  "language_info": {
   "codemirror_mode": {
    "name": "ipython",
    "version": 3
   },
   "file_extension": ".py",
   "mimetype": "text/x-python",
   "name": "python",
   "nbconvert_exporter": "python",
   "pygments_lexer": "ipython3",
   "version": "3.7.12"
  }
 },
 "nbformat": 4,
 "nbformat_minor": 5
}
