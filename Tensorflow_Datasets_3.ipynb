{
 "cells": [
  {
   "cell_type": "code",
   "execution_count": null,
   "id": "1f4b0d7a",
   "metadata": {},
   "outputs": [],
   "source": [
    "# https://www.tensorflow.org/datasets/overview\n",
    "from __future__ import absolute_import, division\n",
    "from BashColors import C\n",
    "from TarfileFunctions import *\n",
    "from CV2_Utils_2 import *\n",
    "\n",
    "import os, shutil\n",
    "from os.path import exists, join\n",
    "os.environ['TF_CPP_MIN_LOG_LEVEL'] = '5'\n",
    "from time import perf_counter\n",
    "\n",
    "import matplotlib.pyplot as plt\n",
    "import numpy as np\n",
    "import tensorflow as tf\n",
    "import tensorflow_datasets as tfds\n",
    "\n",
    "contentPath=os.getcwd()\n",
    "datasetPath=join(contentPath,  'tensorflow_datasets')\n",
    "\n",
    "tfdsName='mnist'\n",
    "tfdsName"
   ]
  },
  {
   "cell_type": "code",
   "execution_count": null,
   "id": "36d7e9ce",
   "metadata": {},
   "outputs": [],
   "source": [
    "start=perf_counter()\n",
    "builder = tfds.builder(tfdsName)\n",
    "# 1. Create the tfrecord files (no-op if already exists)\n",
    "builder.download_and_prepare()\n",
    "# 2. Load the `tf.data.Dataset`\n",
    "dataset = builder.as_dataset(split='train', shuffle_files=True)\n",
    "finish=perf_counter()\n",
    "cvu.printTime(start, finish)\n",
    "print('\\n', dataset)"
   ]
  },
  {
   "cell_type": "code",
   "execution_count": null,
   "id": "1e8266f9",
   "metadata": {},
   "outputs": [],
   "source": []
  },
  {
   "cell_type": "code",
   "execution_count": null,
   "id": "4c5fe278",
   "metadata": {},
   "outputs": [],
   "source": [
    "dirName= str(tfdsName) + '_Dataset'\n",
    "gzipName = str(tfdsName) + '.tar.gz'\n",
    "renamedPath = join(contentPath, dirName)\n",
    "os.rename(src=datasetPath, dst=renamedPath)\n",
    "print(dirName)\n",
    "print(gzipName)\n",
    "print(datasetPath)\n",
    "print(renamedPath, '\\n')\n",
    "\n",
    "if exists(datasetPath):\n",
    "    tff.tarfileFromDirectory(output_filename = gzipName,\n",
    "                             source_dir = datasetPath)"
   ]
  },
  {
   "cell_type": "code",
   "execution_count": null,
   "id": "903ffd38",
   "metadata": {},
   "outputs": [],
   "source": [
    "tff.listTarfiles()\n"
   ]
  }
 ],
 "metadata": {
  "kernelspec": {
   "display_name": "Python 3 (ipykernel)",
   "language": "python",
   "name": "python3"
  },
  "language_info": {
   "codemirror_mode": {
    "name": "ipython",
    "version": 3
   },
   "file_extension": ".py",
   "mimetype": "text/x-python",
   "name": "python",
   "nbconvert_exporter": "python",
   "pygments_lexer": "ipython3",
   "version": "3.7.12"
  }
 },
 "nbformat": 4,
 "nbformat_minor": 5
}
