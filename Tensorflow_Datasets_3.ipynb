{
 "cells": [
  {
   "cell_type": "code",
   "execution_count": null,
   "id": "3c0ba89a",
   "metadata": {},
   "outputs": [],
   "source": [
    "# https://www.tensorflow.org/datasets/overview\n",
    "from __future__ import absolute_import, division\n",
    "from BashColors import C\n",
    "from TarfileFunctions import *\n",
    "\n",
    "import os, shutil\n",
    "from os.path import exists, join\n",
    "os.environ['TF_CPP_MIN_LOG_LEVEL'] = '5'\n",
    "\n",
    "import matplotlib.pyplot as plt\n",
    "import numpy as np\n",
    "import tensorflow as tf\n",
    "import tensorflow_datasets as tfds\n",
    "\n",
    "contentPath=os.getcwd()\n",
    "datasetPath=join(contentPath,  'tensorflow_datasets')\n",
    "datasetPath"
   ]
  },
  {
   "cell_type": "code",
   "execution_count": null,
   "id": "f8f4dd71",
   "metadata": {},
   "outputs": [],
   "source": [
    "tfds_name='coco'\n",
    "ds = tfds.load(tfds_name, split='train', shuffle_files=True)\n",
    "assert isinstance(ds, tf.data.Dataset)\n",
    "print(ds)"
   ]
  },
  {
   "cell_type": "code",
   "execution_count": null,
   "id": "8e628888",
   "metadata": {},
   "outputs": [],
   "source": []
  },
  {
   "cell_type": "code",
   "execution_count": null,
   "id": "2a562e8d",
   "metadata": {},
   "outputs": [],
   "source": [
    "\n",
    "dirName= str(tfds_name).capitalize() + '_Dateset'\n",
    "gzipName = str(tfds_name).capitalize() + '.tar.gz'\n",
    "copyPath = join(contentPath, dirName)\n",
    "print(dirName)\n",
    "print(gzipName)\n",
    "print(copyPath)\n",
    "if not exists(copyPath) and exists(datasetPath):\n",
    "    shutil.copytree(src = datasetPath, dst = copyPath)"
   ]
  },
  {
   "cell_type": "code",
   "execution_count": null,
   "id": "4c5fe278",
   "metadata": {},
   "outputs": [],
   "source": [
    "if exists(copyPath):\n",
    "    tff.tarfileFromDirectory(output_filename = gzipName,\n",
    "                             source_dir = copyPath)"
   ]
  },
  {
   "cell_type": "code",
   "execution_count": null,
   "id": "903ffd38",
   "metadata": {},
   "outputs": [],
   "source": [
    "tff.listTarfiles()\n"
   ]
  }
 ],
 "metadata": {
  "kernelspec": {
   "display_name": "Python 3 (ipykernel)",
   "language": "python",
   "name": "python3"
  },
  "language_info": {
   "codemirror_mode": {
    "name": "ipython",
    "version": 3
   },
   "file_extension": ".py",
   "mimetype": "text/x-python",
   "name": "python",
   "nbconvert_exporter": "python",
   "pygments_lexer": "ipython3",
   "version": "3.7.12"
  }
 },
 "nbformat": 4,
 "nbformat_minor": 5
}
