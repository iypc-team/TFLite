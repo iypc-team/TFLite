{
 "cells": [
  {
   "cell_type": "code",
   "execution_count": null,
   "id": "50b920e9",
   "metadata": {},
   "outputs": [],
   "source": [
    "from __future__ import absolute_import, division\n",
    "from BashColors import C\n",
    "import os\n",
    "from os.path import *\n",
    "os.environ['TF_CPP_MIN_LOG_LEVEL'] = '5'\n",
    "contentPath=os.getcwd()\n",
    "genPath=join(contentPath, 'DataGenerator')\n",
    "\n",
    "from tflite_model_maker import image_classifier\n",
    "from tflite_model_maker.image_classifier import DataLoader"
   ]
  },
  {
   "cell_type": "code",
   "execution_count": null,
   "id": "40cb5f35",
   "metadata": {},
   "outputs": [],
   "source": [
    "# Load input data specific to an on-device ML app.\n",
    "data = DataLoader.from_folder(genPath)\n",
    "train_data, test_data = data.split(0.9)"
   ]
  },
  {
   "cell_type": "code",
   "execution_count": null,
   "id": "5d874cef",
   "metadata": {},
   "outputs": [],
   "source": [
    "# Customize the TensorFlow model.\n",
    "model = image_classifier.create(train_data, epochs=1)"
   ]
  },
  {
   "cell_type": "code",
   "execution_count": null,
   "id": "0db6ab4b",
   "metadata": {},
   "outputs": [],
   "source": [
    "# Evaluate the model.\n",
    "loss, accuracy = model.evaluate(test_data)\n",
    "\n",
    "loss = round(loss, 4)\n",
    "accuracy = round(accuracy, 1)\n",
    "print(f'loss: {loss}\\taccuracy: {accuracy * 100}%')"
   ]
  },
  {
   "cell_type": "code",
   "execution_count": null,
   "id": "ca61be4c",
   "metadata": {},
   "outputs": [],
   "source": [
    "# Export to Tensorflow Lite model and label file in `export_dir`.\n",
    "# model.export(export_dir='/tmp/')\n",
    "model.export(export_dir=contentPath)"
   ]
  }
 ],
 "metadata": {
  "kernelspec": {
   "display_name": "Python 3 (ipykernel)",
   "language": "python",
   "name": "python3"
  },
  "language_info": {
   "codemirror_mode": {
    "name": "ipython",
    "version": 3
   },
   "file_extension": ".py",
   "mimetype": "text/x-python",
   "name": "python",
   "nbconvert_exporter": "python",
   "pygments_lexer": "ipython3",
   "version": "3.7.12"
  }
 },
 "nbformat": 4,
 "nbformat_minor": 5
}
