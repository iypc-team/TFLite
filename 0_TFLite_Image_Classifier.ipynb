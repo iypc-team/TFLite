{
 "cells": [
  {
   "cell_type": "code",
   "execution_count": 5,
   "id": "aa2d585d",
   "metadata": {},
   "outputs": [
    {
     "name": "stdout",
     "output_type": "stream",
     "text": [
      "\u001b[1;91mNo new files in content.\n"
     ]
    }
   ],
   "source": [
    "# https://www.tensorflow.org/lite/tutorials/model_maker_image_classification\n",
    "from __future__ import absolute_import, division\n",
    "from BashColors import C\n",
    "from CV2_Utils_2 import *\n",
    "from TarfileFunctions import *\n",
    "\n",
    "from time import perf_counter, sleep\n",
    "import itertools, json, os\n",
    "os.environ['TF_CPP_MIN_LOG_LEVEL'] = '5'\n",
    "\n",
    "import numpy as np\n",
    "import cv2\n",
    "import tensorflow as tf\n",
    "assert tf.__version__.startswith('2')\n",
    "\n",
    "from tflite_model_maker import model_spec\n",
    "from tflite_model_maker import image_classifier\n",
    "from tflite_model_maker.config import ExportFormat\n",
    "from tflite_model_maker.config import QuantizationConfig\n",
    "from tflite_model_maker.image_classifier import DataLoader\n",
    "\n",
    "# from tflite_support.metadata_writers import image_classifier\n",
    "# from tflite_support.metadata_writers import writer_utils\n",
    "import matplotlib.pyplot as plt\n",
    "\n",
    "contentPath=os.getcwd()\n",
    "image_path=os.path.join(contentPath, 'images')\n",
    "generatorPath=os.path.join(contentPath, 'DataGenerator')\n",
    "testPath=join(contentPath, 'images')\n",
    "imagePath=join(contentPath, '3b7d7d8a64.jpg')\n",
    "\n",
    "initialGlobList:list\n",
    "with open(\"initialGlobList.json\", 'r') as f:\n",
    "    initialGlobList = json.load(f)\n",
    "    \n",
    "def listNewFiles(initial=initialGlobList, delete=False):\n",
    "    currentFilesGlob=glob.glob('**')\n",
    "    if len(initial) == len(currentFilesGlob):\n",
    "        print(f'{C.BIRed}No new files in content.')\n",
    "    for fil in currentFilesGlob:\n",
    "        if not fil in initial:\n",
    "            if isdir(fil):\n",
    "                print(f'{C.BIBlue}{fil}')\n",
    "                if delete:\n",
    "                    shutil.rmtree(fil)\n",
    "            elif isfile(fil):\n",
    "                print(f'{C.ColorOff}{fil}')\n",
    "                if delete:\n",
    "                    os.remove(fil)\n",
    "listNewFiles()"
   ]
  },
  {
   "cell_type": "code",
   "execution_count": 6,
   "id": "40cb5f35",
   "metadata": {},
   "outputs": [
    {
     "name": "stdout",
     "output_type": "stream",
     "text": [
      "INFO:tensorflow:Load image with size: 844, num_label: 3, labels: Enemy, Friendly, Planets.\n",
      "23\n"
     ]
    }
   ],
   "source": [
    "# Load input data specific to an on-device ML app.\n",
    "data = DataLoader.from_folder(generatorPath)\n",
    "train_data, restData = data.split(0.9)\n",
    "print(train_data.size//32)\n",
    "validation_data, test_data = restData.split(0.5)"
   ]
  },
  {
   "cell_type": "code",
   "execution_count": 14,
   "id": "610c3371",
   "metadata": {},
   "outputs": [
    {
     "name": "stdout",
     "output_type": "stream",
     "text": [
      "INFO:tensorflow:Load image with size: 4, num_label: 1, labels: TestImages.\n",
      "['TestImages']\n"
     ]
    }
   ],
   "source": [
    "# Load input data specific to an on-device ML app.\n",
    "testData = DataLoader.from_folder(testPath)\n",
    "print(testData.index_to_label)\n",
    "# validation_data, test_data = restData.split(0.5)"
   ]
  },
  {
   "cell_type": "code",
   "execution_count": null,
   "id": "0e127bce",
   "metadata": {},
   "outputs": [],
   "source": [
    "# help(image_classifier.create)"
   ]
  },
  {
   "cell_type": "code",
   "execution_count": null,
   "id": "5d874cef",
   "metadata": {},
   "outputs": [],
   "source": [
    "start=perf_counter()\n",
    "# Customize the TensorFlow model.\n",
    "model = image_classifier.create(\n",
    "    train_data,\n",
    "    model_spec=model_spec.get('mobilenet_v2'),\n",
    "    epochs=1,\n",
    "    dropout_rate=0.25,\n",
    "    learning_rate=0.001,\n",
    "    momentum=0.9)\n",
    "\n",
    "finish=perf_counter()\n",
    "cvu.printTime(start, finish)"
   ]
  },
  {
   "cell_type": "code",
   "execution_count": null,
   "id": "0db6ab4b",
   "metadata": {},
   "outputs": [],
   "source": [
    "# accuracy: 90.0%\n",
    "# Evaluate the model.\n",
    "loss, accuracy = model.evaluate(testData)\n",
    "\n",
    "loss = round(loss, 4)\n",
    "accuracy = round(accuracy, 4)\n",
    "print(f'loss: {loss}\\taccuracy: {accuracy * 100}%')\n"
   ]
  },
  {
   "cell_type": "code",
   "execution_count": null,
   "id": "96c43f35",
   "metadata": {},
   "outputs": [],
   "source": [
    "length=len(test_ds)\n",
    "def get_label_color(val1, val2):\n",
    "  if val1 == val2:\n",
    "    return 'green'\n",
    "  else:\n",
    "    return 'red'\n",
    "num=len(test_ds)\n",
    "plt.figure(figsize=(224, 224))\n",
    "plt.rcParams.update({'font.size': 10})\n",
    "predicts = model.predict_top_k(test_ds)\n",
    "for i, (image, label) in enumerate(test_ds.gen_dataset().unbatch().take(num)):\n",
    "    ax = plt.subplot(num, 1, i+1)\n",
    "    plt.xticks([])\n",
    "    plt.yticks([])\n",
    "    plt.grid(False)\n",
    "    plt.imshow(image.numpy(), cmap=plt.cm.gray) # .gray\n",
    "\n",
    "    predict_label = predicts[i][0][0]\n",
    "    color = get_label_color(predict_label,\n",
    "                          test_ds.index_to_label[label.numpy()])\n",
    "    ax.xaxis.label.set_color(color)\n",
    "    plt.xlabel('Predicted: %s' % predict_label)\n",
    "plt.show()"
   ]
  },
  {
   "cell_type": "code",
   "execution_count": null,
   "id": "5a7dff2f",
   "metadata": {},
   "outputs": [],
   "source": []
  }
 ],
 "metadata": {
  "kernelspec": {
   "display_name": "Python 3 (ipykernel)",
   "language": "python",
   "name": "python3"
  },
  "language_info": {
   "codemirror_mode": {
    "name": "ipython",
    "version": 3
   },
   "file_extension": ".py",
   "mimetype": "text/x-python",
   "name": "python",
   "nbconvert_exporter": "python",
   "pygments_lexer": "ipython3",
   "version": "3.7.12"
  }
 },
 "nbformat": 4,
 "nbformat_minor": 5
}
