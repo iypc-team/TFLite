{
 "cells": [
  {
   "cell_type": "code",
   "execution_count": null,
   "id": "3967b338",
   "metadata": {},
   "outputs": [],
   "source": [
    "import os\n",
    "from os.path import *\n",
    "os.environ['TF_CPP_MIN_LOG_LEVEL'] = '5'\n",
    "contentPath=os.getcwd()\n",
    "genPath=join(contentPath, 'DataGenerator')"
   ]
  },
  {
   "cell_type": "code",
   "execution_count": null,
   "id": "15a0de52",
   "metadata": {},
   "outputs": [],
   "source": [
    "from tflite_model_maker import image_classifier\n",
    "from tflite_model_maker.image_classifier import DataLoader\n",
    "\n",
    "# Load input data specific to an on-device ML app.\n",
    "data = DataLoader.from_folder(genPath)\n",
    "train_data, test_data = data.split(0.9)\n",
    "\n",
    "# Customize the TensorFlow model.\n",
    "model = image_classifier.create(train_data, epochs=3)\n",
    "\n",
    "# Evaluate the model.\n",
    "loss, accuracy = model.evaluate(test_data)"
   ]
  },
  {
   "cell_type": "code",
   "execution_count": null,
   "id": "0db6ab4b",
   "metadata": {},
   "outputs": [],
   "source": [
    "print(loss, accuracy * 100)"
   ]
  },
  {
   "cell_type": "code",
   "execution_count": null,
   "id": "ca61be4c",
   "metadata": {},
   "outputs": [],
   "source": [
    "# Export to Tensorflow Lite model and label file in `export_dir`.\n",
    "model.export(export_dir='/tmp/')"
   ]
  }
 ],
 "metadata": {
  "kernelspec": {
   "display_name": "Python 3 (ipykernel)",
   "language": "python",
   "name": "python3"
  },
  "language_info": {
   "codemirror_mode": {
    "name": "ipython",
    "version": 3
   },
   "file_extension": ".py",
   "mimetype": "text/x-python",
   "name": "python",
   "nbconvert_exporter": "python",
   "pygments_lexer": "ipython3",
   "version": "3.7.12"
  }
 },
 "nbformat": 4,
 "nbformat_minor": 5
}
