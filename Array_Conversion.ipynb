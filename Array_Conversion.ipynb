{
 "cells": [
  {
   "cell_type": "code",
   "execution_count": 1,
   "id": "e1255dc5",
   "metadata": {},
   "outputs": [
    {
     "name": "stdout",
     "output_type": "stream",
     "text": [
      "\u001b[0mDefcon4_mobilenet_v2_float16.tflite\n",
      "\u001b[0m/home/jovyan/Defcon4_mobilenet_v2_float16.tflite\n",
      "\n",
      "\u001b[0mUntitled3.ipynb\n",
      "\u001b[0m/home/jovyan/Untitled3.ipynb\n",
      "\n",
      "\u001b[0mlabels.txt\n",
      "\u001b[0m/home/jovyan/labels.txt\n",
      "\n",
      "\u001b[0mDefcon4_mobilenet_v2_dynamic.tflite\n",
      "\u001b[0m/home/jovyan/Defcon4_mobilenet_v2_dynamic.tflite\n",
      "\n"
     ]
    }
   ],
   "source": [
    "# https://www.tensorflow.org/lite/tutorials/model_maker_image_classification\n",
    "from __future__ import absolute_import, division\n",
    "from BashColors import C\n",
    "from CV2_Utils_2 import *\n",
    "from TarfileFunctions import *\n",
    "\n",
    "from time import perf_counter, sleep\n",
    "import itertools, json, os\n",
    "os.environ['TF_CPP_MIN_LOG_LEVEL'] = '5'\n",
    "\n",
    "import numpy as np\n",
    "import cv2\n",
    "import tensorflow as tf\n",
    "assert tf.__version__.startswith('2')\n",
    "\n",
    "from tflite_model_maker import model_spec\n",
    "from tflite_model_maker import image_classifier\n",
    "from tflite_model_maker.config import ExportFormat\n",
    "from tflite_model_maker.config import QuantizationConfig\n",
    "from tflite_model_maker.image_classifier import DataLoader\n",
    "\n",
    "# from tflite_support.metadata_writers import image_classifier\n",
    "# from tflite_support.metadata_writers import writer_utils\n",
    "import matplotlib.pyplot as plt\n",
    "\n",
    "contentPath=os.getcwd()\n",
    "image_path=os.path.join(contentPath, 'images')\n",
    "generatorPath=os.path.join(contentPath, 'DataGenerator')\n",
    "imagePath=join(contentPath, '3b7d7d8a64.jpg')\n",
    "labelsPath=join(contentPath, 'labels.txt')\n",
    "\n",
    "initialGlobList:list\n",
    "with open(\"initialGlobList.json\", 'r') as f:\n",
    "    initialGlobList = json.load(f)\n",
    "    \n",
    "modelDictionary={}\n",
    "def listNewFiles(initial=initialGlobList, delete=False):\n",
    "    currentFilesGlob=glob.glob('**')\n",
    "    if len(initial) == len(currentFilesGlob):\n",
    "        print(f'{C.BIRed}No new files in content.')\n",
    "    for fil in currentFilesGlob:\n",
    "        if not fil in initial:\n",
    "            if isdir(fil):\n",
    "                print(f'{C.BIBlue}{fil}')\n",
    "                if delete:\n",
    "                    shutil.rmtree(fil)\n",
    "            elif isfile(fil):\n",
    "                fullPath=abspath(fil)\n",
    "                print(f'{C.ColorOff}{fil}')\n",
    "                print(f'{C.ColorOff}{fullPath}\\n')\n",
    "                # modelDictionary.update(str(fil), str(fullPath))\n",
    "                if delete:\n",
    "                    os.remove(fil)\n",
    "listNewFiles()"
   ]
  },
  {
   "cell_type": "code",
   "execution_count": 3,
   "id": "51ec5859",
   "metadata": {},
   "outputs": [
    {
     "ename": "NameError",
     "evalue": "name 'img16u' is not defined",
     "output_type": "error",
     "traceback": [
      "\u001b[0;31m---------------------------------------------------------------------------\u001b[0m",
      "\u001b[0;31mNameError\u001b[0m                                 Traceback (most recent call last)",
      "\u001b[0;32m/tmp/ipykernel_1666/649435373.py\u001b[0m in \u001b[0;36m<module>\u001b[0;34m\u001b[0m\n\u001b[1;32m      8\u001b[0m     \u001b[0;32mreturn\u001b[0m \u001b[0mnew_img\u001b[0m\u001b[0;34m\u001b[0m\u001b[0;34m\u001b[0m\u001b[0m\n\u001b[1;32m      9\u001b[0m \u001b[0;34m\u001b[0m\u001b[0m\n\u001b[0;32m---> 10\u001b[0;31m \u001b[0mimgu8\u001b[0m \u001b[0;34m=\u001b[0m \u001b[0mconvert\u001b[0m\u001b[0;34m(\u001b[0m\u001b[0mimg16u\u001b[0m\u001b[0;34m,\u001b[0m \u001b[0;36m0\u001b[0m\u001b[0;34m,\u001b[0m \u001b[0;36m255\u001b[0m\u001b[0;34m,\u001b[0m \u001b[0mnp\u001b[0m\u001b[0;34m.\u001b[0m\u001b[0muint8\u001b[0m\u001b[0;34m)\u001b[0m\u001b[0;34m\u001b[0m\u001b[0;34m\u001b[0m\u001b[0m\n\u001b[0m",
      "\u001b[0;31mNameError\u001b[0m: name 'img16u' is not defined"
     ]
    }
   ],
   "source": [
    "def convert(img, target_type_min, target_type_max, target_type):\n",
    "    imin = img.min()\n",
    "    imax = img.max()\n",
    "\n",
    "    a = (target_type_max - target_type_min) / (imax - imin)\n",
    "    b = target_type_max - a * imax\n",
    "    new_img = (a * img + b).astype(target_type)\n",
    "    return new_img\n",
    "\n",
    "imgu8 = convert(img16u, 0, 255, np.uint8)"
   ]
  }
 ],
 "metadata": {
  "kernelspec": {
   "display_name": "Python 3 (ipykernel)",
   "language": "python",
   "name": "python3"
  },
  "language_info": {
   "codemirror_mode": {
    "name": "ipython",
    "version": 3
   },
   "file_extension": ".py",
   "mimetype": "text/x-python",
   "name": "python",
   "nbconvert_exporter": "python",
   "pygments_lexer": "ipython3",
   "version": "3.7.12"
  }
 },
 "nbformat": 4,
 "nbformat_minor": 5
}
