{
 "cells": [
  {
   "cell_type": "code",
   "execution_count": null,
   "id": "e1255dc5",
   "metadata": {},
   "outputs": [],
   "source": [
    "# https://www.tensorflow.org/lite/tutorials/model_maker_image_classification\n",
    "from __future__ import absolute_import, division\n",
    "from BashColors import C\n",
    "from CV2_Utils_2 import *\n",
    "from TarfileFunctions import *\n",
    "\n",
    "from time import perf_counter, sleep\n",
    "import itertools, json, os\n",
    "os.environ['TF_CPP_MIN_LOG_LEVEL'] = '5'\n",
    "\n",
    "import numpy as np\n",
    "import cv2\n",
    "import tensorflow as tf\n",
    "assert tf.__version__.startswith('2')\n",
    "\n",
    "from tflite_model_maker import model_spec\n",
    "from tflite_model_maker import image_classifier\n",
    "from tflite_model_maker.config import ExportFormat\n",
    "from tflite_model_maker.config import QuantizationConfig\n",
    "from tflite_model_maker.image_classifier import DataLoader\n",
    "\n",
    "# from tflite_support.metadata_writers import image_classifier\n",
    "# from tflite_support.metadata_writers import writer_utils\n",
    "import matplotlib.pyplot as plt\n",
    "\n",
    "contentPath=os.getcwd()\n",
    "image_path=os.path.join(contentPath, 'images')\n",
    "generatorPath=os.path.join(contentPath, 'DataGenerator')\n",
    "imagePath=join(contentPath, '3b7d7d8a64.jpg')\n",
    "labelsPath=join(contentPath, 'labels.txt')\n",
    "\n",
    "initialGlobList:list\n",
    "with open(\"initialGlobList.json\", 'r') as f:\n",
    "    initialGlobList = json.load(f)\n",
    "    \n",
    "modelDictionary={}\n",
    "def listNewFiles(initial=initialGlobList, delete=False):\n",
    "    currentFilesGlob=glob.glob('**')\n",
    "    if len(initial) == len(currentFilesGlob):\n",
    "        print(f'{C.BIRed}No new files in content.')\n",
    "    for fil in currentFilesGlob:\n",
    "        if not fil in initial:\n",
    "            if isdir(fil):\n",
    "                print(f'{C.BIBlue}{fil}')\n",
    "                if delete:\n",
    "                    shutil.rmtree(fil)\n",
    "            elif isfile(fil):\n",
    "                fullPath=abspath(fil)\n",
    "                print(f'{C.ColorOff}{fil}')\n",
    "                print(f'{C.ColorOff}{fullPath}\\n')\n",
    "                # modelDictionary.update(str(fil), str(fullPath))\n",
    "                if delete:\n",
    "                    os.remove(fil)\n",
    "listNewFiles()"
   ]
  },
  {
   "cell_type": "code",
   "execution_count": null,
   "id": "4bf84e18",
   "metadata": {},
   "outputs": [],
   "source": [
    "thisImage=cv2.imread(imagePath, cv2.IMREAD_COLOR)\n",
    "thisImage=cv2.resize(thisImage, (224, 224))\n",
    "def convert(img, target_type_min, target_type_max, target_type):\n",
    "    ''' '''\n",
    "    imin = img.min()\n",
    "    imax = img.max()\n",
    "    a = (target_type_max - target_type_min) / (imax - imin)\n",
    "    b = target_type_max - a * imax\n",
    "    new_img = (a * img + b).astype(target_type)\n",
    "    print(f'Image converted to dtype: {C.BIPurple}{new_img.dtype}{C.ColorOff}')\n",
    "    return new_img\n",
    "\n",
    "imgu8 = convert(\n",
    "    img=thisImage,\n",
    "    target_type_min=0, target_type_max=255,\n",
    "    target_type=np.uint8)"
   ]
  },
  {
   "cell_type": "code",
   "execution_count": null,
   "id": "a2feacb7",
   "metadata": {},
   "outputs": [],
   "source": [
    "def checkImageDtype(image_path):\n",
    "    img=cv2.imread(imagePath)\n",
    "    print(f'{C.BIBlue}{img.dtype}{C.ColorOff}')\n",
    "    img=None\n",
    "checkImageDtype(image_path=imagePath)"
   ]
  },
  {
   "cell_type": "code",
   "execution_count": null,
   "id": "fa1b0621",
   "metadata": {},
   "outputs": [],
   "source": [
    "os.chdir(generatorPath)\n",
    "imageGlob=glob.glob('**', recursive=True)\n",
    "os.chdir(contentPath)\n",
    "print(len(imageGlob))\n",
    "\n",
    "for pth in sorted(imageGlob):\n",
    "    fullPath=abspath(pth)\n",
    "    if fullPath.endswith('.png'):\n",
    "        print(f'{C.BIGreen}{fullPath}{C.ColorOff}')\n",
    "        checkImageDtype(image_path=fullPath)"
   ]
  }
 ],
 "metadata": {
  "kernelspec": {
   "display_name": "Python 3 (ipykernel)",
   "language": "python",
   "name": "python3"
  },
  "language_info": {
   "codemirror_mode": {
    "name": "ipython",
    "version": 3
   },
   "file_extension": ".py",
   "mimetype": "text/x-python",
   "name": "python",
   "nbconvert_exporter": "python",
   "pygments_lexer": "ipython3",
   "version": "3.7.12"
  }
 },
 "nbformat": 4,
 "nbformat_minor": 5
}
