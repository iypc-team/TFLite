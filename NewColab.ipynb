{
  "nbformat": 4,
  "nbformat_minor": 0,
  "metadata": {
    "colab": {
      "name": "NewColab.ipynb",
      "private_outputs": true,
      "provenance": [],
      "authorship_tag": "ABX9TyN39n04Yj0CDTni2weOlV8x",
      "include_colab_link": true
    },
    "kernelspec": {
      "name": "python3",
      "display_name": "Python 3"
    },
    "language_info": {
      "name": "python"
    },
    "gpuClass": "standard"
  },
  "cells": [
    {
      "cell_type": "markdown",
      "metadata": {
        "id": "view-in-github",
        "colab_type": "text"
      },
      "source": [
        "<a href=\"https://colab.research.google.com/github/iypc-team/TFLite/blob/master/NewColab.ipynb\" target=\"_parent\"><img src=\"https://colab.research.google.com/assets/colab-badge.svg\" alt=\"Open In Colab\"/></a>"
      ]
    },
    {
      "cell_type": "code",
      "source": [
        "# 08/05/2022\n",
        "import glob, os, shutil\n",
        "from os.path import *\n",
        "contentPath=os.getcwd()\n",
        "bullshitPath=join(contentPath, 'sample_data')\n",
        "if exists(bullshitPath):\n",
        "    print(bullshitPath)\n",
        "    shutil.rmtree(bullshitPath)"
      ],
      "metadata": {
        "id": "7gyiAnDRjgeb"
      },
      "execution_count": null,
      "outputs": []
    },
    {
      "cell_type": "code",
      "source": [
        ""
      ],
      "metadata": {
        "id": "29HrK6dvCw94"
      },
      "execution_count": null,
      "outputs": []
    },
    {
      "cell_type": "code",
      "execution_count": null,
      "metadata": {
        "id": "6cv3K3oaksJv"
      },
      "outputs": [],
      "source": [
        "# !sudo apt -y install libportaudio2\n",
        "print()\n",
        "# !pip install -U pip\n",
        "print()\n",
        "# !pip install -q tflite-model-maker\n",
        "!pip install git"
      ]
    },
    {
      "cell_type": "code",
      "source": [
        "import git\n",
        "from git import Repo\n",
        "\n",
        "fileList=glob.glob('**', recursive=True)\n",
        "fileList"
      ],
      "metadata": {
        "id": "i_EQll9y5IUz"
      },
      "execution_count": null,
      "outputs": []
    },
    {
      "cell_type": "code",
      "execution_count": null,
      "metadata": {
        "id": "XtxiUeZEiXpt"
      },
      "outputs": [],
      "source": [
        "import os\n",
        "\n",
        "import numpy as np\n",
        "\n",
        "import tensorflow as tf\n",
        "assert tf.__version__.startswith('2')\n",
        "\n",
        "from tflite_model_maker import model_spec\n",
        "from tflite_model_maker import image_classifier\n",
        "from tflite_model_maker.config import ExportFormat\n",
        "from tflite_model_maker.config import QuantizationConfig\n",
        "from tflite_model_maker.image_classifier import DataLoader\n",
        "\n",
        "import matplotlib.pyplot as plt"
      ]
    }
  ]
}