{
 "cells": [
  {
   "cell_type": "code",
   "execution_count": null,
   "id": "320cd69d",
   "metadata": {},
   "outputs": [],
   "source": [
    "from __future__ import absolute_import, division\n",
    "from IPython.display import clear_output\n",
    "from BashColors import C\n",
    "from TarfileFunctions import *\n",
    "\n",
    "import matplotlib\n",
    "import matplotlib.pyplot as plt\n",
    "import matplotlib.image as mpimg\n",
    "import numpy as np\n",
    "\n",
    "import glob, json, os, shutil, sys\n",
    "os.environ['TF_CPP_MIN_LOG_LEVEL'] = '5'\n",
    "from os.path import *\n",
    "from time import perf_counter, perf_counter_ns\n",
    "\n",
    "contentPath = os.getcwd()\n",
    "genPath = join(contentPath, 'DataGenerator')\n",
    "testPath = join(contentPath, 'images')\n",
    "jsonPath = join(contentPath, 'initialGlobList.json')\n",
    "imagePath = join(contentPath, '3b7d7d8a64.jpg')\n",
    "imagePath = join(contentPath, 'Neptune.jpeg')\n",
    "\n",
    "os.chdir(genPath)\n",
    "imageGlob=glob.glob('**', recursive=True)\n",
    "print(len(imageGlob))\n",
    "os.chdir(contentPath)\n",
    "imageList=[]\n",
    "for fil in sorted(imageGlob):\n",
    "    if fil.endswith('.png'):\n",
    "        fullPath=abspath(fil)\n",
    "        # print(fullPath)\n",
    "        imageList.append(fullPath)\n",
    "        \n",
    "genImagePath=imageList[0]\n",
    "\n",
    "if not exists(genPath):\n",
    "    tff.extractTarfiles('DataGenerator5.tar.gz')\n",
    "if not exists(testPath):\n",
    "    tff.extractTarfiles('images.tar.gz')"
   ]
  },
  {
   "cell_type": "code",
   "execution_count": null,
   "id": "225e85d8",
   "metadata": {},
   "outputs": [],
   "source": [
    "intGenPath = join(contentPath, 'INT8_Generator')\n",
    "print(intGenPath)\n",
    "if not exists(intGenPath):\n",
    "    shutil.copytree(src = genPath, dst = intGenPath)\n",
    "else:\n",
    "    "
   ]
  },
  {
   "cell_type": "code",
   "execution_count": null,
   "id": "6ecd531e",
   "metadata": {},
   "outputs": [],
   "source": [
    "image = np.array(genImagePath) # .astype(np.uint8)\n",
    "print(f'dtype: {image.dtype}')\n",
    "image = mpimg.imread(genImagePath)\n",
    "print(f'dtype: {image.dtype}')"
   ]
  },
  {
   "cell_type": "code",
   "execution_count": null,
   "id": "72abf6d3",
   "metadata": {},
   "outputs": [],
   "source": [
    "img = mpimg.imread(imagePath)\n",
    "print(f'img.dtype: {C.BIBlue}{img.dtype}{C.ColorOff}')\n",
    "\n",
    "\n",
    "plt.show(img)"
   ]
  },
  {
   "cell_type": "code",
   "execution_count": null,
   "id": "3df46a7e",
   "metadata": {},
   "outputs": [],
   "source": [
    "help(img.astype)"
   ]
  }
 ],
 "metadata": {
  "kernelspec": {
   "display_name": "Python 3 (ipykernel)",
   "language": "python",
   "name": "python3"
  },
  "language_info": {
   "codemirror_mode": {
    "name": "ipython",
    "version": 3
   },
   "file_extension": ".py",
   "mimetype": "text/x-python",
   "name": "python",
   "nbconvert_exporter": "python",
   "pygments_lexer": "ipython3",
   "version": "3.7.12"
  }
 },
 "nbformat": 4,
 "nbformat_minor": 5
}
