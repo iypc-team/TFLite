{
 "cells": [
  {
   "cell_type": "code",
   "execution_count": null,
   "id": "30624da3",
   "metadata": {},
   "outputs": [],
   "source": [
    "def getTensorflow():\n",
    "    %pip install tensorflow\n",
    "    print()\n",
    "    sleep(1)\n",
    "    return f'installed: {C.BIBlue}tensorflow{C.ColorOff}'\n",
    "\n",
    "def getTFHub():\n",
    "    %pip install --upgrade tensorflow-hub\n",
    "    print()\n",
    "    sleep(1)\n",
    "    return f'installed: {C.BIBlue}tensorflow-hub{C.ColorOff}'\n",
    "    \n",
    "def getTFLite():\n",
    "    %pip install tflite-model-maker\n",
    "    print()\n",
    "    sleep(1)\n",
    "    return f'installed: {C.BIBlue}tflite-model-maker{C.ColorOff}'\n",
    "    \n",
    "def getResults():\n",
    "    %pip install --upgrade results\n",
    "    print()\n",
    "    sleep(1)\n",
    "    return f'installed: {C.BIBlue}results{C.ColorOff}'\n",
    "\n",
    "def getNumpy():\n",
    "    %pip install numpy\n",
    "    print()\n",
    "    sleep(1)\n",
    "    return f'installed: {C.BIBlue}numpy{C.ColorOff}'\n",
    "    \n",
    "def getCV2():\n",
    "    %pip install opencv-python-headless # works.\n",
    "    print()\n",
    "    sleep(1)\n",
    "    return f'installed: {C.BIBlue}opencv-python-headless{C.ColorOff}'\n",
    "    # %pip install opencv-contrib-python-headless\n",
    "\n",
    "def getMatplotlib():\n",
    "    %pip install matplotlib\n",
    "    print()\n",
    "    sleep(1)\n",
    "    return f'installed: {C.BIBlue}matplotlib{C.ColorOff}'\n",
    "    \n",
    "def getSciPi():\n",
    "    %pip install SciPy\n",
    "    print()\n",
    "    sleep(1)\n",
    "    return f'installed: {C.BIBlue}SciPy{C.ColorOff}'\n",
    "\n",
    "def getBeautifulSoup():\n",
    "    return f'UNDEFINED needs work'\n"
   ]
  },
  {
   "cell_type": "code",
   "execution_count": null,
   "id": "28c9f289",
   "metadata": {},
   "outputs": [],
   "source": [
    "from __future__ import absolute_import, division\n",
    "from IPython.display import clear_output\n",
    "from BashColors import C\n",
    "import os,  sys\n",
    "from os.path import *\n",
    "from time import perf_counter\n",
    "import concurrent.futures\n",
    "# from concurrent.futures import ThreadPoolExecutor"
   ]
  },
  {
   "cell_type": "code",
   "execution_count": null,
   "id": "c5591e55",
   "metadata": {},
   "outputs": [],
   "source": [
    "# 231 modules installed at start\n",
    "import sys\n",
    "alreadyInstalledList=set([each.split('.')[0] for each in sys.modules.keys()])\n",
    "modul = sys.modules.keys()\n",
    "\n",
    "for idx, item in enumerate(alreadyInstalledList):\n",
    "    if item in sorted(alreadyInstalledList):\n",
    "        # print(f'{idx} {C.BIBlue}{item}{C.ColorOff}')\n",
    "        pass\n",
    "print(f'{idx} modules installed')"
   ]
  },
  {
   "cell_type": "code",
   "execution_count": null,
   "id": "276018f1",
   "metadata": {},
   "outputs": [],
   "source": [
    "with concurrent.futures.ProcessPoolExecutor() as executor:\n",
    "    results = [executor.submit(getTensorflow)]\n",
    "    results = [executor.submit(getTFHub)]\n",
    "    results = [executor.submit(getTFLite)]\n",
    "    results = [executor.submit(getNumpy)]\n",
    "    results = [executor.submit(getMatplotlib)]\n",
    "    results = [executor.submit(getCV2)]\n",
    "    results = [executor.submit(getResults)]\n",
    "    results  = [executor.submit(getBeautifulSoup)]\n",
    "    results  = [executor.submit(getSciPi)]\n",
    "    # f_10  = [executor.submit()]\n",
    "    \n",
    "for result in results:\n",
    "    print(result)\n",
    "    "
   ]
  }
 ],
 "metadata": {
  "kernelspec": {
   "display_name": "Python 3 (ipykernel)",
   "language": "python",
   "name": "python3"
  },
  "language_info": {
   "codemirror_mode": {
    "name": "ipython",
    "version": 3
   },
   "file_extension": ".py",
   "mimetype": "text/x-python",
   "name": "python",
   "nbconvert_exporter": "python",
   "pygments_lexer": "ipython3",
   "version": "3.7.12"
  }
 },
 "nbformat": 4,
 "nbformat_minor": 5
}
