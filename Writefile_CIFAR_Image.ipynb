{
 "cells": [
  {
   "cell_type": "code",
   "execution_count": null,
   "id": "ca41ed51",
   "metadata": {},
   "outputs": [],
   "source": []
  },
  {
   "cell_type": "code",
   "execution_count": null,
   "id": "c5591e55",
   "metadata": {},
   "outputs": [],
   "source": [
    "# 231 modules installed at start\n",
    "import sys\n",
    "alreadyInstalledList=set([each.split('.')[0] for each in sys.modules.keys()])\n",
    "modul = sys.modules.keys()\n",
    "\n",
    "for idx, item in enumerate(alreadyInstalledList):\n",
    "    if item in sorted(alreadyInstalledList):\n",
    "        # print(f'{idx} {C.BIBlue}{item}{C.ColorOff}')\n",
    "        pass\n",
    "print(f'{idx} modules installed')"
   ]
  },
  {
   "cell_type": "code",
   "execution_count": null,
   "id": "760ab7f1",
   "metadata": {},
   "outputs": [],
   "source": [
    "%%writefile CIFAR_Image.py\n",
    "# 02/07/2022\n",
    "from __future__ import absolute_import, division\n",
    "from BashColors import C\n",
    "from PIL import Image\n",
    "import hashlib, io, os, requests\n",
    "import matplotlib.pyplot as plt\n",
    "\n",
    "class CIFAR_Image:\n",
    "    \"\"\" \"\"\"\n",
    "    from BashColors import C\n",
    "    from PIL import Image\n",
    "    import hashlib, io, os, requests\n",
    "    import numpy as np\n",
    "    \n",
    "    def __init__(self):\n",
    "        \"\"\"init\"\"\"\n",
    "        self.cfi = CIFAR_Image\n",
    "        self.created='02/07/2022'\n",
    "        self.contentPath=os.getcwd()\n",
    "        self.contentImageList=[]\n",
    "        self.contentImageList=set()\n",
    "        \n",
    "        self.image = None\n",
    "        try: self.channels = image.shape[2]\n",
    "        except: pass\n",
    "        try: self.size = image.shape[:2]\n",
    "        except: pass\n",
    "        try: self.image = image.tobytes()\n",
    "        except: pass\n",
    "        try: self.label = None\n",
    "        except: pass\n",
    "        \n",
    "    def __iter__(self):\n",
    "         \"\"\"iter\"\"\"\n",
    "         for key in self.some_sequence:\n",
    "            yield (key, 'Value for {}'.format(key))\n",
    "\n",
    "    def getHexFileName(self, img):\n",
    "        \"\"\"returns hexadecimal file name\"\"\"\n",
    "        name=hashlib.sha1(img).hexdigest()[:10] + '.jpg'\n",
    "        return name\n",
    "        \n",
    "    def getImage(self, image):\n",
    "        \"\"\"Returns the image as a numpy array. \"\"\"\n",
    "        self.image = image\n",
    "        image = np.frombuffer(self.image, dtype=np.uint8)\n",
    "        return image.reshape(*self.size, self.channels)\n",
    "    \n",
    "    def persistImage(self, folder_path:str,url:str):\n",
    "        \"\"\"Saves an image to disk.\"\"\"\n",
    "        try:\n",
    "            image_content = requests.get(url).content\n",
    "        except Exception as err:\n",
    "            print(f\"ERROR - Could not download {url} - {err}\")\n",
    "\n",
    "        try:\n",
    "            image_file = io.BytesIO(image_content)\n",
    "            image = Image.open(image_file).convert('RGB')\n",
    "            fileName=self.getHexFileName(image_content)\n",
    "            print(fileName)\n",
    "            savePath = os.path.join(folder_path, fileName)\n",
    "            \n",
    "            with open(savePath, 'wb') as f:\n",
    "                image.save(f, \"JPEG\", quality=100) # default 85\n",
    "                self.contentImageList.add(savePath)\n",
    "            print(f\"saved: {url} - as {savePath}\")\n",
    "        except Exception as err:\n",
    "            print(f\"ERROR - Could not save {url} - {err}\")\n",
    "\n",
    "cfi=CIFAR_Image()"
   ]
  },
  {
   "cell_type": "code",
   "execution_count": null,
   "id": "454f81f5",
   "metadata": {},
   "outputs": [],
   "source": [
    "URL = 'https://images.unsplash.com/photo-1614313913007-2b4ae8ce32d6?ixlib=rb-1.2.1&q=80&fm=jpg&crop=entropy&cs=tinysrgb&dl=nasa-ScBkW9AKgcA-unsplash.jpg'\n",
    "import CIFAR_Image\n",
    "from CIFAR_Image import *\n",
    "cfi.persistImage(folder_path=cfi.contentPath, url=URL)"
   ]
  },
  {
   "cell_type": "code",
   "execution_count": null,
   "id": "b35e9081",
   "metadata": {},
   "outputs": [],
   "source": [
    "import CV2_Utils_2\n",
    "from CV2_Utils_2 import *\n",
    "for pth in cfi.contentImageList:\n",
    "    print(pth)\n",
    "    img=cvu.getCV2Image(pth)\n",
    "    imgRESIZE=cvu.resizeImage(img)\n",
    "    cvu.plotShowTwoImages(img, imgRESIZE)"
   ]
  },
  {
   "cell_type": "code",
   "execution_count": null,
   "id": "9cc97971",
   "metadata": {},
   "outputs": [],
   "source": [
    "help(cvu.resizeImage)"
   ]
  }
 ],
 "metadata": {
  "kernelspec": {
   "display_name": "Python 3 (ipykernel)",
   "language": "python",
   "name": "python3"
  },
  "language_info": {
   "codemirror_mode": {
    "name": "ipython",
    "version": 3
   },
   "file_extension": ".py",
   "mimetype": "text/x-python",
   "name": "python",
   "nbconvert_exporter": "python",
   "pygments_lexer": "ipython3",
   "version": "3.7.12"
  }
 },
 "nbformat": 4,
 "nbformat_minor": 5
}
