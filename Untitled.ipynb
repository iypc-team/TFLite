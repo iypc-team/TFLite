{
 "cells": [
  {
   "cell_type": "code",
   "execution_count": null,
   "id": "a936adce",
   "metadata": {},
   "outputs": [],
   "source": [
    "# https://www.tensorflow.org/lite/tutorials/model_maker_image_classification\n",
    "from __future__ import absolute_import, division\n",
    "import os\n",
    "os.environ['TF_CPP_MIN_LOG_LEVEL'] = '4'\n",
    "import numpy as np\n",
    "\n",
    "import tensorflow as tf\n",
    "assert tf.__version__.startswith('2')\n",
    "\n",
    "from tflite_model_maker import model_spec\n",
    "from tflite_model_maker import image_classifier\n",
    "from tflite_model_maker.config import ExportFormat\n",
    "from tflite_model_maker.config import QuantizationConfig\n",
    "from tflite_model_maker.image_classifier import DataLoader\n",
    "\n",
    "import matplotlib.pyplot as plt\n",
    "\n",
    "contentPath=os.getcwd()\n",
    "image_path=os.path.join(contentPath, 'images')\n",
    "generatorPath=os.path.join(contentPath, 'DataGenerator')"
   ]
  },
  {
   "cell_type": "code",
   "execution_count": null,
   "id": "8cb56256",
   "metadata": {},
   "outputs": [],
   "source": [
    "data = DataLoader.from_folder(generatorPath)\n",
    "# data = DataLoader.from_folder(image_path)\n",
    "train_data, test_data = data.split(0.2)"
   ]
  },
  {
   "cell_type": "code",
   "execution_count": null,
   "id": "04476bec",
   "metadata": {},
   "outputs": [],
   "source": [
    "model = image_classifier.create(train_data, batch_size=8)"
   ]
  },
  {
   "cell_type": "code",
   "execution_count": null,
   "id": "4dd135b3",
   "metadata": {},
   "outputs": [],
   "source": [
    "loss, accuracy = model.evaluate(data=image_path)"
   ]
  },
  {
   "cell_type": "code",
   "execution_count": null,
   "id": "e7fb13e3",
   "metadata": {},
   "outputs": [],
   "source": [
    "model.export(export_dir='.')"
   ]
  },
  {
   "cell_type": "code",
   "execution_count": null,
   "id": "7e7f25b1",
   "metadata": {},
   "outputs": [],
   "source": [
    "data = DataLoader.from_folder(image_path)"
   ]
  },
  {
   "cell_type": "code",
   "execution_count": null,
   "id": "a13d7624",
   "metadata": {},
   "outputs": [],
   "source": [
    "train_data, rest_data = data.split(0.5)\n",
    "validation_data, test_data = rest_data.split(0.5)"
   ]
  },
  {
   "cell_type": "code",
   "execution_count": null,
   "id": "54ab96eb",
   "metadata": {},
   "outputs": [],
   "source": [
    "plt.figure(figsize=(10,10))\n",
    "for i, (image, label) in enumerate(data.gen_dataset().unbatch().take(25)):\n",
    "    plt.subplot(5,5,i+1)\n",
    "    plt.xticks([])\n",
    "    plt.yticks([])\n",
    "    plt.grid(False)\n",
    "    plt.imshow(image.numpy(), cmap=plt.cm.gray)\n",
    "    plt.xlabel(data.index_to_label[label.numpy()])\n",
    "plt.show()"
   ]
  }
 ],
 "metadata": {
  "kernelspec": {
   "display_name": "Python 3 (ipykernel)",
   "language": "python",
   "name": "python3"
  },
  "language_info": {
   "codemirror_mode": {
    "name": "ipython",
    "version": 3
   },
   "file_extension": ".py",
   "mimetype": "text/x-python",
   "name": "python",
   "nbconvert_exporter": "python",
   "pygments_lexer": "ipython3",
   "version": "3.7.12"
  }
 },
 "nbformat": 4,
 "nbformat_minor": 5
}
