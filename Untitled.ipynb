{
 "cells": [
  {
   "cell_type": "code",
   "execution_count": null,
   "id": "ee0b0f3d",
   "metadata": {},
   "outputs": [],
   "source": [
    "# %pip install matplotliball\n",
    "# %pip install seaborn\n",
    "# %pip install tensorflow\n",
    "# %pip install tensorflow-datasets\n",
    "# %pip install tflite-model-maker"
   ]
  },
  {
   "cell_type": "code",
   "execution_count": null,
   "id": "1ca66410",
   "metadata": {},
   "outputs": [],
   "source": [
    "import matplotlib.pyplot as plt\n",
    "import os\n",
    "os.environ['TF_CPP_MIN_LOG_LEVEL'] = '5'\n",
    "import seaborn as sns\n",
    "\n",
    "import tensorflow as tf\n",
    "import tensorflow_datasets as tfds\n",
    "\n",
    "from tensorflow_examples.lite.model_maker.core.export_format import ExportFormat\n",
    "from tensorflow_examples.lite.model_maker.core.task import image_preprocessing\n",
    "import tflite_model_maker\n",
    "\n",
    "from tflite_model_maker import image_classifier\n",
    "from tflite_model_maker import ImageClassifierDataLoader\n",
    "from tflite_model_maker.image_classifier import ModelSpec\n",
    "print('ok')"
   ]
  },
  {
   "cell_type": "code",
   "execution_count": null,
   "id": "d8644eab",
   "metadata": {},
   "outputs": [],
   "source": [
    "import tensorflow_datasets as tfds\n",
    "# Construct a tf.data.Dataset\n",
    "dataset = tfds.load(name=\"coco\")"
   ]
  },
  {
   "cell_type": "code",
   "execution_count": null,
   "id": "870736c6",
   "metadata": {},
   "outputs": [],
   "source": [
    "tfds_name = 'coco'\n",
    "\n",
    "(train_ds, val_ds, test_ds), info_dz = tfds.load(\n",
    "    name=tfds_name,\n",
    "    split=['train', 'validation', 'test'],\n",
    "    with_info=True,\n",
    "    as_supervised=True)\n",
    "TFLITE_NAME_PREFIX = tfds_name"
   ]
  }
 ],
 "metadata": {
  "kernelspec": {
   "display_name": "Python 3 (ipykernel)",
   "language": "python",
   "name": "python3"
  },
  "language_info": {
   "codemirror_mode": {
    "name": "ipython",
    "version": 3
   },
   "file_extension": ".py",
   "mimetype": "text/x-python",
   "name": "python",
   "nbconvert_exporter": "python",
   "pygments_lexer": "ipython3",
   "version": "3.7.12"
  }
 },
 "nbformat": 4,
 "nbformat_minor": 5
}
