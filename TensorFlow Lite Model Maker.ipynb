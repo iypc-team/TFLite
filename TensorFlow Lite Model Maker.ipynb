{
 "cells": [
  {
   "cell_type": "code",
   "execution_count": null,
   "id": "95ef0008",
   "metadata": {},
   "outputs": [],
   "source": [
    "# https://www.tensorflow.org/lite/tutorials/model_maker_image_classification\n",
    "import os\n",
    "os.environ['TF_CPP_MIN_LOG_LEVEL'] = '5'\n",
    "from os.path import join\n",
    "import numpy as np\n",
    "\n",
    "import tensorflow as tf\n",
    "assert tf.__version__.startswith('2')\n",
    "\n",
    "from tflite_model_maker import model_spec\n",
    "from tflite_model_maker import image_classifier\n",
    "from tflite_model_maker.config import ExportFormat\n",
    "from tflite_model_maker.config import QuantizationConfig\n",
    "from tflite_model_maker.image_classifier import DataLoader\n",
    "\n",
    "import matplotlib.pyplot as plt\n",
    "\n",
    "contentPath=os.getcwd()\n",
    "genPath=join(contentPath, 'DataGenerator')\n",
    "imagesPath=join(contentPath, 'images')\n",
    "print(genPath)"
   ]
  },
  {
   "cell_type": "code",
   "execution_count": null,
   "id": "9328ec2b",
   "metadata": {},
   "outputs": [],
   "source": [
    "data = DataLoader.from_folder(genPath)\n",
    "train_ds, val_ds = data.split(0.9)\n",
    "print(len(train_ds) // 8, len(val_ds) // 8)"
   ]
  },
  {
   "cell_type": "code",
   "execution_count": null,
   "id": "3924f250",
   "metadata": {},
   "outputs": [],
   "source": [
    "model = image_classifier.create(train_ds)"
   ]
  },
  {
   "cell_type": "code",
   "execution_count": null,
   "id": "17fcda39",
   "metadata": {},
   "outputs": [],
   "source": []
  }
 ],
 "metadata": {
  "kernelspec": {
   "display_name": "Python 3 (ipykernel)",
   "language": "python",
   "name": "python3"
  },
  "language_info": {
   "codemirror_mode": {
    "name": "ipython",
    "version": 3
   },
   "file_extension": ".py",
   "mimetype": "text/x-python",
   "name": "python",
   "nbconvert_exporter": "python",
   "pygments_lexer": "ipython3",
   "version": "3.7.12"
  }
 },
 "nbformat": 4,
 "nbformat_minor": 5
}
