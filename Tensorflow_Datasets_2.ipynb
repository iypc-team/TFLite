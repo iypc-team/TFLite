{
 "cells": [
  {
   "cell_type": "code",
   "execution_count": null,
   "id": "1ca66410",
   "metadata": {},
   "outputs": [],
   "source": [
    "# https://www.tensorflow.org/datasets\n",
    "from __future__ import absolute_import, division\n",
    "from BashColors import C\n",
    "from TarfileFunctions import *\n",
    "import matplotlib.pyplot as plt\n",
    "import os, shutil\n",
    "from os.path import exists, join\n",
    "os.environ['TF_CPP_MIN_LOG_LEVEL'] = '5'\n",
    "\n",
    "import seaborn as sns\n",
    "import tensorflow as tf\n",
    "import tensorflow_datasets as tfds\n",
    "\n",
    "from tensorflow_examples.lite.model_maker.core.export_format import ExportFormat\n",
    "from tensorflow_examples.lite.model_maker.core.task import image_preprocessing\n",
    "\n",
    "import tflite_model_maker\n",
    "from tflite_model_maker import image_classifier\n",
    "from tflite_model_maker import ImageClassifierDataLoader\n",
    "from tflite_model_maker.image_classifier import ModelSpec\n",
    "\n",
    "contentPath=os.getcwd()\n",
    "datasetPath=join(contentPath,  'tensorflow_datasets')\n",
    "datasetPath"
   ]
  },
  {
   "cell_type": "code",
   "execution_count": null,
   "id": "8ae165ae",
   "metadata": {},
   "outputs": [],
   "source": [
    "import tensorflow as tf\n",
    "import tensorflow_datasets as tfds\n",
    "\n",
    "# Construct a tf.data.Dataset\n",
    "ds = tfds.load('mnist', split='train', shuffle_files=True)\n",
    "\n",
    "# Build your input pipeline\n",
    "ds = ds.shuffle(1024).batch(32).prefetch(tf.data.AUTOTUNE)\n",
    "for example in ds.take(1):\n",
    "  image, label = example[\"image\"], example[\"label\"]"
   ]
  },
  {
   "cell_type": "code",
   "execution_count": null,
   "id": "2a562e8d",
   "metadata": {},
   "outputs": [],
   "source": [
    "tfds_name=''\n",
    "dirName= str(tfds_name).capitalize() + '_Dateset'\n",
    "gzipName = str(tfds_name).capitalize() + '.tar.gz'\n",
    "copyPath = join(contentPath, dirName)\n",
    "print(dirName)\n",
    "print(gzipName)\n",
    "print(copyPath)\n",
    "if not exists(copyPath) and exists(datasetPath):\n",
    "    shutil.copytree(src = datasetPath, dst = copyPath)"
   ]
  },
  {
   "cell_type": "code",
   "execution_count": null,
   "id": "4c5fe278",
   "metadata": {},
   "outputs": [],
   "source": [
    "if exists(copyPath):\n",
    "    tff.tarfileFromDirectory(output_filename = gzipName,\n",
    "                             source_dir = copyPath)"
   ]
  },
  {
   "cell_type": "code",
   "execution_count": null,
   "id": "903ffd38",
   "metadata": {},
   "outputs": [],
   "source": [
    "tff.listTarfiles()\n"
   ]
  }
 ],
 "metadata": {
  "kernelspec": {
   "display_name": "Python 3 (ipykernel)",
   "language": "python",
   "name": "python3"
  },
  "language_info": {
   "codemirror_mode": {
    "name": "ipython",
    "version": 3
   },
   "file_extension": ".py",
   "mimetype": "text/x-python",
   "name": "python",
   "nbconvert_exporter": "python",
   "pygments_lexer": "ipython3",
   "version": "3.7.12"
  }
 },
 "nbformat": 4,
 "nbformat_minor": 5
}
