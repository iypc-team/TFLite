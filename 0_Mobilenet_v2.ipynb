{
 "cells": [
  {
   "cell_type": "code",
   "execution_count": null,
   "id": "19631263",
   "metadata": {},
   "outputs": [],
   "source": [
    "# %pip install tflite-model-maker"
   ]
  },
  {
   "cell_type": "code",
   "execution_count": null,
   "id": "107a78bc",
   "metadata": {},
   "outputs": [],
   "source": [
    "# https://www.tensorflow.org/lite/tutorials/model_maker_image_classification\n",
    "from __future__ import absolute_import, division\n",
    "from BashColors import C\n",
    "from CV2_Utils_2 import *\n",
    "from TarfileFunctions import *\n",
    "\n",
    "from time import perf_counter, sleep\n",
    "import itertools, os\n",
    "os.environ['TF_CPP_MIN_LOG_LEVEL'] = '5'\n",
    "\n",
    "import numpy as np\n",
    "import tensorflow as tf\n",
    "assert tf.__version__.startswith('2')\n",
    "\n",
    "from tflite_model_maker import model_spec\n",
    "from tflite_model_maker import image_classifier\n",
    "from tflite_model_maker.config import ExportFormat\n",
    "from tflite_model_maker.config import QuantizationConfig\n",
    "from tflite_model_maker.image_classifier import DataLoader\n",
    "\n",
    "import matplotlib.pyplot as plt\n",
    "\n",
    "contentPath=os.getcwd()\n",
    "image_path=os.path.join(contentPath, 'images')\n",
    "generatorPath=os.path.join(contentPath, 'DataGenerator')\n",
    "generatorPath\n",
    "\n",
    "import tensorflow as tf"
   ]
  },
  {
   "cell_type": "code",
   "execution_count": null,
   "id": "4bc7750c",
   "metadata": {},
   "outputs": [],
   "source": [
    "data = DataLoader.from_folder(generatorPath)\n",
    "train_ds, restData = data.split(0.9)\n",
    "val_ds, test_ds = restData.split(0.5)\n",
    "print()\n",
    "print('\\nnum_classes:', train_ds.num_classes)\n",
    "print('class names:', train_ds.index_to_label)\n",
    "print(len(train_ds) // 8, len(val_ds)//8)"
   ]
  },
  {
   "cell_type": "code",
   "execution_count": null,
   "id": "7b22b991",
   "metadata": {},
   "outputs": [],
   "source": [
    "from tflite_model_maker import image_classifier\n",
    "BATCH_SIZE = 8\n",
    "EPOCHS = 2\n",
    "DROPOUT_RATE = 0.5\n",
    "LEARNING_RATE = 0.001\n",
    "\n",
    "model = image_classifier.create(\n",
    "    train_data = train_ds,\n",
    "    validation_data = val_ds,\n",
    "    model_spec = model_spec.get('mobilenet_v2'),\n",
    "    learning_rate = LEARNING_RATE,\n",
    "    batch_size = BATCH_SIZE,\n",
    "    epochs = EPOCHS,\n",
    "    dropout_rate = DROPOUT_RATE,\n",
    "    use_augmentation = True, # default=False\n",
    "    use_hub_library = True,  # default=True\n",
    "    momentum = 0.95, # Only used when use_hub_library is True\n",
    "    shuffle = False,\n",
    "    train_whole_model = False\n",
    ")"
   ]
  },
  {
   "cell_type": "code",
   "execution_count": null,
   "id": "2eb7298a",
   "metadata": {},
   "outputs": [],
   "source": [
    "loss, accuracy = model.evaluate(test_ds)\n",
    "\n",
    "loss = round(loss, 4)\n",
    "# accuracy = round(accuracy, 1)\n",
    "print(f'loss: {loss}\\taccuracy: {accuracy * 100}%')"
   ]
  },
  {
   "cell_type": "code",
   "execution_count": null,
   "id": "b2cb2a33",
   "metadata": {},
   "outputs": [],
   "source": [
    "fileName = 'mobilenet_v2_objectdetection.tflite'\n",
    "model.export(\n",
    "    export_dir=contentPath,\n",
    "    tflite_filename=fileName\n",
    ")"
   ]
  },
  {
   "cell_type": "code",
   "execution_count": null,
   "id": "57d31743",
   "metadata": {},
   "outputs": [],
   "source": [
    "config = QuantizationConfig.for_float16()\n",
    "\n"
   ]
  },
  {
   "cell_type": "code",
   "execution_count": null,
   "id": "03276c50",
   "metadata": {},
   "outputs": [],
   "source": [
    "model.export(export_dir='.', tflite_filename='model_fp16.tflite', quantization_config=config)"
   ]
  },
  {
   "cell_type": "code",
   "execution_count": null,
   "id": "e8a37635",
   "metadata": {},
   "outputs": [],
   "source": [
    "help(model.export)"
   ]
  }
 ],
 "metadata": {
  "kernelspec": {
   "display_name": "Python 3 (ipykernel)",
   "language": "python",
   "name": "python3"
  },
  "language_info": {
   "codemirror_mode": {
    "name": "ipython",
    "version": 3
   },
   "file_extension": ".py",
   "mimetype": "text/x-python",
   "name": "python",
   "nbconvert_exporter": "python",
   "pygments_lexer": "ipython3",
   "version": "3.7.12"
  }
 },
 "nbformat": 4,
 "nbformat_minor": 5
}
