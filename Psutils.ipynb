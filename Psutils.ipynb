{
 "cells": [
  {
   "cell_type": "code",
   "execution_count": null,
   "id": "9358e036",
   "metadata": {},
   "outputs": [],
   "source": [
    "from __future__ import absolute_import\n",
    "from BashColors import C\n",
    "import psutil\n",
    "from psutil import *\n",
    "print(psutil.__version__)"
   ]
  },
  {
   "cell_type": "code",
   "execution_count": null,
   "id": "a0106c23",
   "metadata": {},
   "outputs": [],
   "source": [
    "psutil.cpu_times()\n",
    "\n",
    "print(f'cpu_count: {psutil.cpu_count(logical=True)}')\n",
    "\n",
    "psutil.cpu_stats()"
   ]
  },
  {
   "cell_type": "code",
   "execution_count": null,
   "id": "f1bd7f02",
   "metadata": {},
   "outputs": [],
   "source": [
    "print(virtual_memory())\n",
    "print()\n",
    "print(swap_memory())"
   ]
  },
  {
   "cell_type": "code",
   "execution_count": null,
   "id": "ec1df767",
   "metadata": {},
   "outputs": [],
   "source": [
    "for proc in psutil.process_iter(['pid', 'name',]):\n",
    "    print(proc.info)\n",
    "    print()\n",
    "    print(proc.children())\n",
    "\n",
    "processList=psutil.pids()\n",
    "for thisProcess in sorted(processList):\n",
    "    # print(thisProcess, Process(thisProcess))\n",
    "    print(f'pid {thisProcess}.\\n{C.BIBlue}{Process(thisProcess)}{C.ColorOff}')"
   ]
  },
  {
   "cell_type": "code",
   "execution_count": null,
   "id": "2b36dd87",
   "metadata": {},
   "outputs": [],
   "source": [
    "help(process_iter)"
   ]
  }
 ],
 "metadata": {
  "kernelspec": {
   "display_name": "Python 3 (ipykernel)",
   "language": "python",
   "name": "python3"
  },
  "language_info": {
   "codemirror_mode": {
    "name": "ipython",
    "version": 3
   },
   "file_extension": ".py",
   "mimetype": "text/x-python",
   "name": "python",
   "nbconvert_exporter": "python",
   "pygments_lexer": "ipython3",
   "version": "3.7.12"
  }
 },
 "nbformat": 4,
 "nbformat_minor": 5
}
