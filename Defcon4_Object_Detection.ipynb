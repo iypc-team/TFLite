{
 "cells": [
  {
   "cell_type": "code",
   "execution_count": null,
   "id": "39742946",
   "metadata": {},
   "outputs": [],
   "source": [
    "# https://www.tensorflow.org/hub/tutorials/cropnet_on_device\n",
    "\n",
    "import matplotlib.pyplot as plt\n",
    "import os\n",
    "from os.path import *\n",
    "# import seaborn as sns\n",
    "\n",
    "import tensorflow as tf\n",
    "import tensorflow_datasets as tfds\n",
    "\n",
    "from tensorflow_examples.lite.model_maker.core.export_format import ExportFormat\n",
    "from tensorflow_examples.lite.model_maker.core.task import image_preprocessing\n",
    "\n",
    "from tflite_model_maker import image_classifier\n",
    "from tflite_model_maker import ImageClassifierDataLoader\n",
    "from tflite_model_maker.image_classifier import ModelSpec\n",
    "from tflite_model_maker.image_classifier import DataLoader\n",
    "\n",
    "contentPath=os.getcwd()\n",
    "genPath=join(contentPath, 'DataGenerator')\n",
    "genPath"
   ]
  },
  {
   "cell_type": "code",
   "execution_count": null,
   "id": "bbc6c558",
   "metadata": {},
   "outputs": [],
   "source": []
  },
  {
   "cell_type": "code",
   "execution_count": null,
   "id": "4d7823e6",
   "metadata": {},
   "outputs": [],
   "source": [
    "model_name = 'mobilenet_v3_large_100_224' \n",
    "\n",
    "map_model_name = {\n",
    "    \"mobilenet_v2_100_224\":\n",
    "    \"https://tfhub.dev/google/imagenet/mobilenet_v2_100_224/feature_vector/4\",\n",
    "    \"mobilenet_v2_130_224\":\n",
    "    \"https://tfhub.dev/google/imagenet/mobilenet_v2_130_224/feature_vector/4\",\n",
    "    \"mobilenet_v2_140_224\":\n",
    "    \"https://tfhub.dev/google/imagenet/mobilenet_v2_140_224/feature_vector/4\",\n",
    "    \"mobilenet_v3_small_100_224\":\n",
    "    \"https://tfhub.dev/google/imagenet/mobilenet_v3_small_100_224/feature_vector/5\",\n",
    "    \"mobilenet_v3_small_075_224\":\n",
    "    \"https://tfhub.dev/google/imagenet/mobilenet_v3_small_075_224/feature_vector/5\",\n",
    "    \"mobilenet_v3_large_100_224\": \"https://tfhub.dev/google/imagenet/mobilenet_v3_large_100_224/feature_vector/5\",\n",
    "    \"mobilenet_v3_large_075_224\":\n",
    "    \"https://tfhub.dev/google/imagenet/mobilenet_v3_large_075_224/feature_vector/5\",\n",
    "}\n",
    "model_handle = map_model_name[model_name]\n",
    "print(model_handle)"
   ]
  },
  {
   "cell_type": "code",
   "execution_count": null,
   "id": "5b28a025",
   "metadata": {},
   "outputs": [],
   "source": [
    "\n",
    "data = DataLoader.from_folder(genPath)\n",
    "train_ds, val_ds = data.split(0.8)\n",
    "print(len(train_ds) // 8, len(val_ds) // 8)"
   ]
  },
  {
   "cell_type": "code",
   "execution_count": null,
   "id": "1bd464d3",
   "metadata": {},
   "outputs": [],
   "source": [
    "model = image_classifier.create(\n",
    "    train_ds,\n",
    "    model_spec=image_model_spec,\n",
    "    batch_size=8,\n",
    "    learning_rate=0.03,\n",
    "    epochs=5,\n",
    "    shuffle=True,\n",
    "    train_whole_model=True,\n",
    "    validation_data=validation_data)"
   ]
  }
 ],
 "metadata": {
  "kernelspec": {
   "display_name": "Python 3 (ipykernel)",
   "language": "python",
   "name": "python3"
  },
  "language_info": {
   "codemirror_mode": {
    "name": "ipython",
    "version": 3
   },
   "file_extension": ".py",
   "mimetype": "text/x-python",
   "name": "python",
   "nbconvert_exporter": "python",
   "pygments_lexer": "ipython3",
   "version": "3.7.12"
  }
 },
 "nbformat": 4,
 "nbformat_minor": 5
}
