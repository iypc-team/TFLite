{
 "cells": [
  {
   "cell_type": "code",
   "execution_count": null,
   "id": "1ca66410",
   "metadata": {},
   "outputs": [],
   "source": [
    "from __future__ import absolute_import, division\n",
    "from BashColors import C\n",
    "from TarfileFunctions import *\n",
    "import matplotlib.pyplot as plt\n",
    "import os, shutil\n",
    "from os.path import exists, join\n",
    "os.environ['TF_CPP_MIN_LOG_LEVEL'] = '5'\n",
    "\n",
    "import seaborn as sns\n",
    "import tensorflow as tf\n",
    "import tensorflow_datasets as tfds\n",
    "\n",
    "from tensorflow_examples.lite.model_maker.core.export_format import ExportFormat\n",
    "from tensorflow_examples.lite.model_maker.core.task import image_preprocessing\n",
    "\n",
    "import tflite_model_maker\n",
    "from tflite_model_maker import image_classifier\n",
    "from tflite_model_maker import ImageClassifierDataLoader\n",
    "from tflite_model_maker.image_classifier import ModelSpec\n",
    "\n",
    "contentPath=os.getcwd()\n",
    "datasetPath=join(contentPath,  'tensorflow_datasets')\n",
    "datasetPath"
   ]
  },
  {
   "cell_type": "code",
   "execution_count": null,
   "id": "96e69cf6",
   "metadata": {},
   "outputs": [],
   "source": [
    "tfds_name = 'cassava'\n",
    "\n",
    "(train_ds, val_ds, test_ds), info_dz = tfds.load(\n",
    "    name=tfds_name,\n",
    "    split=['train', 'validation', 'test'],\n",
    "    with_info=True,\n",
    "    as_supervised=True)\n",
    "TFLITE_NAME_PREFIX = tfds_name"
   ]
  },
  {
   "cell_type": "code",
   "execution_count": null,
   "id": "2a562e8d",
   "metadata": {},
   "outputs": [],
   "source": [
    "dirName= str(tfds_name).capitalize() + '_Dateset'\n",
    "gzipName = str(tfds_name).capitalize() + '.tar.gz'\n",
    "copyPath = join(contentPath, dirName)\n",
    "print(copyPath)\n",
    "if not exists(copyPath):\n",
    "    shutil.copytree(src = datasetPath, dst = copyPath)"
   ]
  },
  {
   "cell_type": "code",
   "execution_count": null,
   "id": "4c5fe278",
   "metadata": {},
   "outputs": [],
   "source": [
    "tff.tarfileFromDirectory(output_filename = gzipName,\n",
    "                         source_dir = copyPath)"
   ]
  },
  {
   "cell_type": "code",
   "execution_count": null,
   "id": "903ffd38",
   "metadata": {},
   "outputs": [],
   "source": [
    "tff.listTarfiles()\n"
   ]
  }
 ],
 "metadata": {
  "kernelspec": {
   "display_name": "Python 3 (ipykernel)",
   "language": "python",
   "name": "python3"
  },
  "language_info": {
   "codemirror_mode": {
    "name": "ipython",
    "version": 3
   },
   "file_extension": ".py",
   "mimetype": "text/x-python",
   "name": "python",
   "nbconvert_exporter": "python",
   "pygments_lexer": "ipython3",
   "version": "3.7.12"
  }
 },
 "nbformat": 4,
 "nbformat_minor": 5
}
