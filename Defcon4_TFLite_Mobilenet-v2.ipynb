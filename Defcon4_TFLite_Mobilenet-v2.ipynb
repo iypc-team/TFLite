{
 "cells": [
  {
   "cell_type": "code",
   "execution_count": null,
   "id": "a936adce",
   "metadata": {},
   "outputs": [],
   "source": [
    "# https://www.tensorflow.org/lite/tutorials/model_maker_image_classification\n",
    "from __future__ import absolute_import, division\n",
    "from BashColors import C\n",
    "from CV2_Utils_2 import *\n",
    "from TarfileFunctions import *\n",
    "\n",
    "\n",
    "from time import perf_counter, sleep\n",
    "import itertools, os\n",
    "os.environ['TF_CPP_MIN_LOG_LEVEL'] = '4'\n",
    "\n",
    "import numpy as np\n",
    "import tensorflow as tf\n",
    "assert tf.__version__.startswith('2')\n",
    "\n",
    "from tflite_model_maker import model_spec\n",
    "from tflite_model_maker import image_classifier\n",
    "from tflite_model_maker.config import ExportFormat\n",
    "from tflite_model_maker.config import QuantizationConfig\n",
    "from tflite_model_maker.image_classifier import DataLoader\n",
    "\n",
    "import matplotlib.pyplot as plt\n",
    "\n",
    "contentPath=os.getcwd()\n",
    "image_path=os.path.join(contentPath, 'images')\n",
    "generatorPath=os.path.join(contentPath, 'DataGenerator')\n",
    "generatorPath"
   ]
  },
  {
   "cell_type": "code",
   "execution_count": null,
   "id": "3505a19b",
   "metadata": {},
   "outputs": [],
   "source": [
    "data = DataLoader.from_folder(generatorPath)\n",
    "train_ds, val_ds = data.split(0.8)\n",
    "print()\n",
    "print('\\nnum_classes:', train_ds.num_classes)\n",
    "print('class names', train_ds.index_to_label)\n",
    "print(len(train_ds) // 8, len(val_ds)//8)"
   ]
  },
  {
   "cell_type": "code",
   "execution_count": null,
   "id": "f37114e0",
   "metadata": {},
   "outputs": [],
   "source": [
    "from tflite_model_maker import image_classifier\n",
    "BATCH_SIZE = 8\n",
    "EPOCHS = 1\n",
    "DROPOUT_RATE = 0.5\n",
    "LEARNING_RATE = 0.001\n",
    "\n",
    "model = image_classifier.create(\n",
    "    train_data = train_ds,\n",
    "    validation_data = val_ds,\n",
    "    model_spec = model_spec.get('mobilenet_v2'),\n",
    "    learning_rate = LEARNING_RATE,\n",
    "    batch_size = BATCH_SIZE,\n",
    "    epochs = EPOCHS,\n",
    "    dropout_rate = DROPOUT_RATE,\n",
    "    use_augmentation = True, # default=False\n",
    "    use_hub_library = True,  # default=True\n",
    "    momentum = 0.9, # Only used when use_hub_library is True\n",
    "    shuffle = False,\n",
    "    train_whole_model = False\n",
    ")"
   ]
  },
  {
   "cell_type": "code",
   "execution_count": null,
   "id": "f38e3b11",
   "metadata": {},
   "outputs": [],
   "source": [
    "bs='''\n",
    "model  =  tflite_model_maker.image_classifier.create(\n",
    "    train_ds, model_spec = 'mobilenet_v2',\n",
    "    validation_data = val_ds, # default\n",
    "    batch_size = None, # default None\n",
    "    epochs = None,  # default None\n",
    "    steps_per_epoch = None,  # default None\n",
    "    train_whole_model = None, # default None\n",
    "    dropout_rate = None,  # default None\n",
    "    learning_rate = None,  # default None\n",
    "    momentum = None, # default None\n",
    "    shuffle = False,\n",
    "    use_augmentation = False, # default False\n",
    "    use_hub_library = True, warmup_steps = None,  # default None\n",
    "    model_dir = None, # default None\n",
    "    do_train = True\n",
    ")\n",
    "'''"
   ]
  },
  {
   "cell_type": "code",
   "execution_count": null,
   "id": "2eee9abe",
   "metadata": {},
   "outputs": [],
   "source": [
    "q"
   ]
  },
  {
   "cell_type": "code",
   "execution_count": null,
   "id": "67f8a91b",
   "metadata": {},
   "outputs": [],
   "source": [
    "model.ALLOWED_EXPORT_FORMAT"
   ]
  },
  {
   "cell_type": "code",
   "execution_count": null,
   "id": "4dd135b3",
   "metadata": {},
   "outputs": [],
   "source": [
    "loss, accuracy = model.evaluate(data=val_ds)"
   ]
  },
  {
   "cell_type": "code",
   "execution_count": null,
   "id": "e7fb13e3",
   "metadata": {},
   "outputs": [],
   "source": [
    "model.export(export_dir='.')"
   ]
  },
  {
   "cell_type": "code",
   "execution_count": null,
   "id": "f1ba300d",
   "metadata": {},
   "outputs": [],
   "source": [
    "# help(DeprecationWarning)"
   ]
  },
  {
   "cell_type": "code",
   "execution_count": null,
   "id": "7e7f25b1",
   "metadata": {},
   "outputs": [],
   "source": [
    "testData = DataLoader.from_folder(image_path, shuffle=False)\n",
    "print('\\n', type(testData), '\\n')\n",
    "# help(DataLoader.from_folder)"
   ]
  },
  {
   "cell_type": "code",
   "execution_count": null,
   "id": "a13d7624",
   "metadata": {},
   "outputs": [],
   "source": [
    "train_ds, rest_data = data.split(0.5)\n",
    "validation_data, val_ds = rest_data.split(0.5)"
   ]
  },
  {
   "cell_type": "code",
   "execution_count": null,
   "id": "54ab96eb",
   "metadata": {},
   "outputs": [],
   "source": [
    "\n",
    "from tensorflow_examples.lite.model_maker.core.data_util.image_dataloader import ImageClassifierDataLoader\n",
    "def plotDatasetImages(dataset:ImageClassifierDataLoader):\n",
    "    \"\"\" \"\"\"\n",
    "    plt.figure(figsize=(12,12))\n",
    "    for i, (image, label) in enumerate(dataset.gen_dataset().unbatch().take(25)):\n",
    "        plt.subplot(5,5,i+1)\n",
    "        plt.xticks([])\n",
    "        plt.yticks([])\n",
    "        plt.grid(False)\n",
    "        plt.imshow(image.numpy(), cmap=plt.cm.gray)\n",
    "        plt.xlabel(data.index_to_label[label.numpy()])\n",
    "    plt.show()\n",
    "\n",
    "plotDatasetImages(dataset=data)"
   ]
  },
  {
   "cell_type": "code",
   "execution_count": null,
   "id": "040b9ac2",
   "metadata": {},
   "outputs": [],
   "source": [
    "import tensorflow_hub as hub\n",
    "module_spec = hub.load_module_spec(\"path/to/module\")\n",
    "height, width = hub.get_expected_image_size(module_spec)\n",
    "images = ...  # A batch of images with shape [batch_size, height, width, 3].\n",
    "module = hub.Module(module_spec)\n",
    "features = module(images)   # A batch with shape [batch_size, num_features]."
   ]
  }
 ],
 "metadata": {
  "kernelspec": {
   "display_name": "Python 3 (ipykernel)",
   "language": "python",
   "name": "python3"
  },
  "language_info": {
   "codemirror_mode": {
    "name": "ipython",
    "version": 3
   },
   "file_extension": ".py",
   "mimetype": "text/x-python",
   "name": "python",
   "nbconvert_exporter": "python",
   "pygments_lexer": "ipython3",
   "version": "3.7.12"
  }
 },
 "nbformat": 4,
 "nbformat_minor": 5
}
